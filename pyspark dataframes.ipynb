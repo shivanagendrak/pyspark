{
 "cells": [
  {
   "cell_type": "markdown",
   "id": "79285419",
   "metadata": {},
   "source": [
    "### pyspark DataFrames - part -1"
   ]
  },
  {
   "cell_type": "code",
   "execution_count": 2,
   "id": "d8184c40",
   "metadata": {},
   "outputs": [],
   "source": [
    "import pyspark"
   ]
  },
  {
   "cell_type": "code",
   "execution_count": 3,
   "id": "8603a54c",
   "metadata": {},
   "outputs": [],
   "source": [
    "from pyspark.sql import SparkSession"
   ]
  },
  {
   "cell_type": "code",
   "execution_count": 4,
   "id": "515ac66c",
   "metadata": {},
   "outputs": [],
   "source": [
    "spark = SparkSession.builder.appName('DataFrame').getOrCreate()"
   ]
  },
  {
   "cell_type": "code",
   "execution_count": 5,
   "id": "e353dcff",
   "metadata": {},
   "outputs": [
    {
     "data": {
      "text/html": [
       "\n",
       "            <div>\n",
       "                <p><b>SparkSession - in-memory</b></p>\n",
       "                \n",
       "        <div>\n",
       "            <p><b>SparkContext</b></p>\n",
       "\n",
       "            <p><a href=\"http://DESKTOP-4USJF9B:4040\">Spark UI</a></p>\n",
       "\n",
       "            <dl>\n",
       "              <dt>Version</dt>\n",
       "                <dd><code>v3.4.1</code></dd>\n",
       "              <dt>Master</dt>\n",
       "                <dd><code>local[*]</code></dd>\n",
       "              <dt>AppName</dt>\n",
       "                <dd><code>DataFrame</code></dd>\n",
       "            </dl>\n",
       "        </div>\n",
       "        \n",
       "            </div>\n",
       "        "
      ],
      "text/plain": [
       "<pyspark.sql.session.SparkSession at 0x2872e5ab610>"
      ]
     },
     "execution_count": 5,
     "metadata": {},
     "output_type": "execute_result"
    }
   ],
   "source": [
    "spark"
   ]
  },
  {
   "cell_type": "code",
   "execution_count": 45,
   "id": "36cf80d9",
   "metadata": {},
   "outputs": [],
   "source": [
    "# Reading the Dataset\n",
    "df_pyspark = spark.read.csv('Data1.csv')"
   ]
  },
  {
   "cell_type": "code",
   "execution_count": 46,
   "id": "35337d9e",
   "metadata": {},
   "outputs": [
    {
     "data": {
      "text/plain": [
       "DataFrame[_c0: string, _c1: string, _c2: string]"
      ]
     },
     "execution_count": 46,
     "metadata": {},
     "output_type": "execute_result"
    }
   ],
   "source": [
    "# column heading name by default it gives random name\n",
    "df_pyspark"
   ]
  },
  {
   "cell_type": "code",
   "execution_count": 47,
   "id": "aefc39f0",
   "metadata": {},
   "outputs": [
    {
     "name": "stdout",
     "output_type": "stream",
     "text": [
      "+-------+---+----------+\n",
      "|    _c0|_c1|       _c2|\n",
      "+-------+---+----------+\n",
      "|   Name|Age|Experience|\n",
      "|  shiva| 24|         3|\n",
      "|   aman| 23|         6|\n",
      "|  hydra| 22|         7|\n",
      "|kakashi| 21|        10|\n",
      "| naruto| 20|         1|\n",
      "+-------+---+----------+\n",
      "\n"
     ]
    }
   ],
   "source": [
    "\n",
    "df_pyspark.show()"
   ]
  },
  {
   "cell_type": "code",
   "execution_count": 48,
   "id": "37473d3f",
   "metadata": {},
   "outputs": [],
   "source": [
    "### Now we need to change the heading with the orignal names by using 'header' "
   ]
  },
  {
   "cell_type": "code",
   "execution_count": 49,
   "id": "54e746eb",
   "metadata": {},
   "outputs": [],
   "source": [
    "df_pyspark = spark.read.option('header','true').csv('Data1.csv')"
   ]
  },
  {
   "cell_type": "code",
   "execution_count": 50,
   "id": "bb0f4505",
   "metadata": {},
   "outputs": [
    {
     "data": {
      "text/plain": [
       "DataFrame[Name: string, Age: string, Experience: string]"
      ]
     },
     "execution_count": 50,
     "metadata": {},
     "output_type": "execute_result"
    }
   ],
   "source": [
    "df_pyspark"
   ]
  },
  {
   "cell_type": "code",
   "execution_count": 51,
   "id": "a88a6d22",
   "metadata": {},
   "outputs": [
    {
     "data": {
      "text/plain": [
       "pyspark.sql.dataframe.DataFrame"
      ]
     },
     "execution_count": 51,
     "metadata": {},
     "output_type": "execute_result"
    }
   ],
   "source": [
    "type(df_pyspark)"
   ]
  },
  {
   "cell_type": "code",
   "execution_count": 52,
   "id": "b551b458",
   "metadata": {},
   "outputs": [
    {
     "name": "stdout",
     "output_type": "stream",
     "text": [
      "root\n",
      " |-- Name: string (nullable = true)\n",
      " |-- Age: string (nullable = true)\n",
      " |-- Experience: string (nullable = true)\n",
      "\n"
     ]
    }
   ],
   "source": [
    "df_pyspark.printSchema()"
   ]
  },
  {
   "cell_type": "code",
   "execution_count": null,
   "id": "7554b391",
   "metadata": {},
   "outputs": [],
   "source": []
  },
  {
   "cell_type": "code",
   "execution_count": 53,
   "id": "4c7a7b32",
   "metadata": {},
   "outputs": [
    {
     "data": {
      "text/plain": [
       "DataFrame[Name: string, Age: string, Experience: string]"
      ]
     },
     "execution_count": 53,
     "metadata": {},
     "output_type": "execute_result"
    }
   ],
   "source": [
    "df_pyspark"
   ]
  },
  {
   "cell_type": "code",
   "execution_count": 54,
   "id": "8c5ebd56",
   "metadata": {},
   "outputs": [
    {
     "name": "stdout",
     "output_type": "stream",
     "text": [
      "+-------+---+----------+\n",
      "|   Name|Age|Experience|\n",
      "+-------+---+----------+\n",
      "|  shiva| 24|         3|\n",
      "|   aman| 23|         6|\n",
      "|  hydra| 22|         7|\n",
      "|kakashi| 21|        10|\n",
      "| naruto| 20|         1|\n",
      "+-------+---+----------+\n",
      "\n"
     ]
    }
   ],
   "source": [
    "df_pyspark.show()"
   ]
  },
  {
   "cell_type": "code",
   "execution_count": 55,
   "id": "c2486e73",
   "metadata": {},
   "outputs": [
    {
     "name": "stdout",
     "output_type": "stream",
     "text": [
      "root\n",
      " |-- Name: string (nullable = true)\n",
      " |-- Age: string (nullable = true)\n",
      " |-- Experience: string (nullable = true)\n",
      "\n"
     ]
    }
   ],
   "source": [
    "df_pyspark.printSchema()"
   ]
  },
  {
   "cell_type": "code",
   "execution_count": 56,
   "id": "18f8ce47",
   "metadata": {},
   "outputs": [],
   "source": [
    "df_pyspark = spark.read.csv('Data1.csv',header = True , inferSchema = True)"
   ]
  },
  {
   "cell_type": "code",
   "execution_count": 57,
   "id": "f99ade09",
   "metadata": {},
   "outputs": [
    {
     "name": "stdout",
     "output_type": "stream",
     "text": [
      "+-------+---+----------+\n",
      "|   Name|Age|Experience|\n",
      "+-------+---+----------+\n",
      "|  shiva| 24|         3|\n",
      "|   aman| 23|         6|\n",
      "|  hydra| 22|         7|\n",
      "|kakashi| 21|        10|\n",
      "| naruto| 20|         1|\n",
      "+-------+---+----------+\n",
      "\n"
     ]
    }
   ],
   "source": [
    "df_pyspark.show()"
   ]
  },
  {
   "cell_type": "code",
   "execution_count": 58,
   "id": "b4ec3a87",
   "metadata": {},
   "outputs": [
    {
     "name": "stdout",
     "output_type": "stream",
     "text": [
      "root\n",
      " |-- Name: string (nullable = true)\n",
      " |-- Age: integer (nullable = true)\n",
      " |-- Experience: integer (nullable = true)\n",
      "\n"
     ]
    }
   ],
   "source": [
    "df_pyspark.printSchema()"
   ]
  },
  {
   "cell_type": "code",
   "execution_count": 59,
   "id": "6859618c",
   "metadata": {},
   "outputs": [
    {
     "data": {
      "text/plain": [
       "['Name', 'Age', 'Experience']"
      ]
     },
     "execution_count": 59,
     "metadata": {},
     "output_type": "execute_result"
    }
   ],
   "source": [
    "df_pyspark.columns"
   ]
  },
  {
   "cell_type": "code",
   "execution_count": 22,
   "id": "bff66cb6",
   "metadata": {},
   "outputs": [
    {
     "data": {
      "text/plain": [
       "['Name', 'Age', 'Experience']"
      ]
     },
     "execution_count": 22,
     "metadata": {},
     "output_type": "execute_result"
    }
   ],
   "source": [
    "df_pyspark.columns[0:3]"
   ]
  },
  {
   "cell_type": "code",
   "execution_count": 23,
   "id": "e0dc5739",
   "metadata": {},
   "outputs": [
    {
     "name": "stdout",
     "output_type": "stream",
     "text": [
      "+-------+---+----------+\n",
      "|   Name|Age|Experience|\n",
      "+-------+---+----------+\n",
      "|  shiva| 24|         3|\n",
      "|   aman| 23|         6|\n",
      "|  hydra| 22|         7|\n",
      "|kakashi| 21|        10|\n",
      "| naruto| 20|         1|\n",
      "+-------+---+----------+\n",
      "\n"
     ]
    }
   ],
   "source": [
    "df_pyspark.show()"
   ]
  },
  {
   "cell_type": "code",
   "execution_count": 24,
   "id": "f725dc6b",
   "metadata": {},
   "outputs": [
    {
     "data": {
      "text/plain": [
       "DataFrame[Age: int]"
      ]
     },
     "execution_count": 24,
     "metadata": {},
     "output_type": "execute_result"
    }
   ],
   "source": [
    "df_pyspark.select('Age')"
   ]
  },
  {
   "cell_type": "code",
   "execution_count": 60,
   "id": "bffc50bf",
   "metadata": {},
   "outputs": [
    {
     "name": "stdout",
     "output_type": "stream",
     "text": [
      "+---+\n",
      "|Age|\n",
      "+---+\n",
      "| 24|\n",
      "| 23|\n",
      "| 22|\n",
      "| 21|\n",
      "| 20|\n",
      "+---+\n",
      "\n"
     ]
    }
   ],
   "source": [
    "df_pyspark.select('Age').show()"
   ]
  },
  {
   "cell_type": "code",
   "execution_count": 61,
   "id": "86618f81",
   "metadata": {},
   "outputs": [
    {
     "data": {
      "text/plain": [
       "[('Name', 'string'), ('Age', 'int'), ('Experience', 'int')]"
      ]
     },
     "execution_count": 61,
     "metadata": {},
     "output_type": "execute_result"
    }
   ],
   "source": [
    "# Datatypes for each column heading name\n",
    "df_pyspark.dtypes"
   ]
  },
  {
   "cell_type": "code",
   "execution_count": 62,
   "id": "bae586a1",
   "metadata": {},
   "outputs": [
    {
     "data": {
      "text/plain": [
       "DataFrame[summary: string, Name: string, Age: string, Experience: string]"
      ]
     },
     "execution_count": 62,
     "metadata": {},
     "output_type": "execute_result"
    }
   ],
   "source": [
    "df_pyspark.describe()"
   ]
  },
  {
   "cell_type": "code",
   "execution_count": 63,
   "id": "837fc86b",
   "metadata": {},
   "outputs": [
    {
     "name": "stdout",
     "output_type": "stream",
     "text": [
      "+-------+-----+------------------+------------------+\n",
      "|summary| Name|               Age|        Experience|\n",
      "+-------+-----+------------------+------------------+\n",
      "|  count|    5|                 5|                 5|\n",
      "|   mean| null|              22.0|               5.4|\n",
      "| stddev| null|1.5811388300841898|3.5071355833500366|\n",
      "|    min| aman|                20|                 1|\n",
      "|    max|shiva|                24|                10|\n",
      "+-------+-----+------------------+------------------+\n",
      "\n"
     ]
    }
   ],
   "source": [
    "# description for dataset\n",
    "df_pyspark.describe().show()"
   ]
  },
  {
   "cell_type": "code",
   "execution_count": 64,
   "id": "56d224eb",
   "metadata": {},
   "outputs": [
    {
     "data": {
      "text/plain": [
       "DataFrame[Name: string, Age: int, Experience: int]"
      ]
     },
     "execution_count": 64,
     "metadata": {},
     "output_type": "execute_result"
    }
   ],
   "source": [
    "# when we want to use particular columns use \"select\" \n",
    "df_pyspark.select(['Name','Age','Experience'])"
   ]
  },
  {
   "cell_type": "code",
   "execution_count": 78,
   "id": "9a5ea0c2",
   "metadata": {},
   "outputs": [
    {
     "name": "stdout",
     "output_type": "stream",
     "text": [
      "+-------+---+----------+------------+\n",
      "|   Name|Age|Experience|Company_Name|\n",
      "+-------+---+----------+------------+\n",
      "|  shiva| 24|         3|           3|\n",
      "|   aman| 23|         6|           6|\n",
      "|  hydra| 22|         7|           7|\n",
      "|kakashi| 21|        10|          10|\n",
      "| naruto| 20|         1|           1|\n",
      "+-------+---+----------+------------+\n",
      "\n"
     ]
    }
   ],
   "source": [
    "# Adding the columns in Data frame\n",
    "\n",
    "df_pyspark.withColumn('Company_Name',df_pyspark['Experience']).show()"
   ]
  },
  {
   "cell_type": "code",
   "execution_count": 66,
   "id": "7b049369",
   "metadata": {},
   "outputs": [
    {
     "data": {
      "text/plain": [
       "DataFrame[Name: string, Age: int, Experience: int]"
      ]
     },
     "execution_count": 66,
     "metadata": {},
     "output_type": "execute_result"
    }
   ],
   "source": [
    "# Dropping the column\n",
    "df_pyspark.drop('Company_Name')"
   ]
  },
  {
   "cell_type": "code",
   "execution_count": 69,
   "id": "50a80a29",
   "metadata": {},
   "outputs": [
    {
     "name": "stdout",
     "output_type": "stream",
     "text": [
      "+-------+---+----------+\n",
      "|   Name|Age|Experience|\n",
      "+-------+---+----------+\n",
      "|  shiva| 24|         3|\n",
      "|   aman| 23|         6|\n",
      "|  hydra| 22|         7|\n",
      "|kakashi| 21|        10|\n",
      "| naruto| 20|         1|\n",
      "+-------+---+----------+\n",
      "\n"
     ]
    }
   ],
   "source": [
    "df_pyspark.show()"
   ]
  },
  {
   "cell_type": "code",
   "execution_count": 73,
   "id": "30eebc42",
   "metadata": {},
   "outputs": [
    {
     "name": "stdout",
     "output_type": "stream",
     "text": [
      "+-------+---+--------------+\n",
      "|   Name|Age|Job_Experience|\n",
      "+-------+---+--------------+\n",
      "|  shiva| 24|             3|\n",
      "|   aman| 23|             6|\n",
      "|  hydra| 22|             7|\n",
      "|kakashi| 21|            10|\n",
      "| naruto| 20|             1|\n",
      "+-------+---+--------------+\n",
      "\n"
     ]
    }
   ],
   "source": [
    "# Rename the column Names\n",
    "df_pyspark.withColumnRenamed('Experience', 'Job_Experience').show()"
   ]
  },
  {
   "cell_type": "code",
   "execution_count": 77,
   "id": "170a35cf",
   "metadata": {},
   "outputs": [
    {
     "name": "stdout",
     "output_type": "stream",
     "text": [
      "+-------+---+----------+\n",
      "|   Name|Age|Experience|\n",
      "+-------+---+----------+\n",
      "|  shiva| 24|         3|\n",
      "|   aman| 23|         6|\n",
      "|  hydra| 22|         7|\n",
      "|kakashi| 21|        10|\n",
      "| naruto| 20|         1|\n",
      "+-------+---+----------+\n",
      "\n"
     ]
    }
   ],
   "source": [
    "df_pyspark.show()"
   ]
  },
  {
   "cell_type": "code",
   "execution_count": 82,
   "id": "1751771c",
   "metadata": {},
   "outputs": [
    {
     "name": "stdout",
     "output_type": "stream",
     "text": [
      "+-------+---+----------+------+\n",
      "|   Name|Age|Experience|salary|\n",
      "+-------+---+----------+------+\n",
      "|  shiva| 24|         3|    24|\n",
      "|   aman| 23|         6|    23|\n",
      "|  hydra| 22|         7|    22|\n",
      "|kakashi| 21|        10|    21|\n",
      "| naruto| 20|         1|    20|\n",
      "+-------+---+----------+------+\n",
      "\n"
     ]
    }
   ],
   "source": [
    "df_pyspark.withColumn('salary',df_pyspark['Age']).show()"
   ]
  },
  {
   "cell_type": "code",
   "execution_count": null,
   "id": "7a9156e1",
   "metadata": {},
   "outputs": [],
   "source": []
  }
 ],
 "metadata": {
  "kernelspec": {
   "display_name": "Python 3 (ipykernel)",
   "language": "python",
   "name": "python3"
  },
  "language_info": {
   "codemirror_mode": {
    "name": "ipython",
    "version": 3
   },
   "file_extension": ".py",
   "mimetype": "text/x-python",
   "name": "python",
   "nbconvert_exporter": "python",
   "pygments_lexer": "ipython3",
   "version": "3.10.11"
  }
 },
 "nbformat": 4,
 "nbformat_minor": 5
}
